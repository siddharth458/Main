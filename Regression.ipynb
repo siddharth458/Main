{
 "cells": [
  {
   "cell_type": "markdown",
   "id": "a5a8a9ee",
   "metadata": {},
   "source": [
    "# Regression"
   ]
  },
  {
   "cell_type": "code",
   "execution_count": null,
   "id": "46452980",
   "metadata": {},
   "outputs": [],
   "source": [
    "import numpy as np\n",
    "import scipy.stats as st\n",
    "\n"
   ]
  },
  {
   "cell_type": "code",
   "execution_count": 5,
   "id": "9eb6d342",
   "metadata": {},
   "outputs": [
    {
     "name": "stdout",
     "output_type": "stream",
     "text": [
      "LinregressResult(slope=3.0, intercept=2.0, rvalue=0.9454288003008773, pvalue=0.054571199699122705, stderr=0.7310832774866965, intercept_stderr=4.594787151274503)\n"
     ]
    }
   ],
   "source": [
    "x  = np.array([0,3,7,10])\n",
    "y = np.array([5,5,27,31])\n",
    "\n",
    "model = st.linregress(x,y)\n",
    "\n",
    "print(model)"
   ]
  },
  {
   "cell_type": "code",
   "execution_count": 7,
   "id": "b5502157",
   "metadata": {},
   "outputs": [
    {
     "name": "stdout",
     "output_type": "stream",
     "text": [
      "11.0\n"
     ]
    }
   ],
   "source": [
    "# to find the predicted value given x = 3\n",
    "\n",
    "print(3*model[0] + model[1])"
   ]
  },
  {
   "cell_type": "markdown",
   "id": "96639ef5",
   "metadata": {},
   "source": [
    "## Interpreting regression parameters"
   ]
  },
  {
   "cell_type": "code",
   "execution_count": 9,
   "id": "fb9924ea",
   "metadata": {},
   "outputs": [],
   "source": [
    "import pandas as pd\n",
    "import matplotlib.pyplot as plt\n",
    "import seaborn as sns"
   ]
  },
  {
   "cell_type": "markdown",
   "id": "95f676b9",
   "metadata": {},
   "source": [
    "df = pd.read_csv('http://data-analytics.zybooks.com/Reaction.csv')\n",
    "df.head()"
   ]
  },
  {
   "cell_type": "code",
   "execution_count": 15,
   "id": "2d07a4f3",
   "metadata": {},
   "outputs": [
    {
     "name": "stdout",
     "output_type": "stream",
     "text": [
      "LinregressResult(slope=6.000000000000001, intercept=3.9999999999999964, rvalue=0.9728166526882823, pvalue=0.0010983582017795293, stderr=0.7141428428542851, intercept_stderr=3.5227829907617076)\n"
     ]
    }
   ],
   "source": [
    "print(st.linregress(df['Drinks'],df['Reaction']))"
   ]
  },
  {
   "cell_type": "markdown",
   "id": "26e55712",
   "metadata": {},
   "source": [
    "### Linear Regression"
   ]
  },
  {
   "cell_type": "code",
   "execution_count": 18,
   "id": "0f7c84dd",
   "metadata": {},
   "outputs": [],
   "source": [
    "import statsmodels.formula.api as sms\n",
    "import statsmodels.api as sm"
   ]
  },
  {
   "cell_type": "markdown",
   "id": "15be5419",
   "metadata": {},
   "source": [
    "## Math course data"
   ]
  },
  {
   "cell_type": "markdown",
   "id": "93773dcd",
   "metadata": {},
   "source": [
    "####  An instructor for a math course wishes to investigate the relationship between students' final exam scores and coursework scores. Data is available for  students,  of whom claimed to \"like math\" at the beginning of the course."
   ]
  },
  {
   "cell_type": "code",
   "execution_count": 19,
   "id": "5e682699",
   "metadata": {},
   "outputs": [],
   "source": [
    "d= {'Y':[90, 66, 78, 65, 65, 60, 63, 72, 54, 81, 58, 71, 70, 92],\n",
    "   'X1':[82, 66, 72, 59, 86, 50, 60, 91, 46, 80, 68, 58, 88, 82],\n",
    "   'Math':[\"yes\", \"no\", \"yes\", \"yes\", \"no\", \"yes\", \"no\", \"no\", \"no\", \"yes\", \"no\", \"yes\", \"no\", \"yes\"]}"
   ]
  },
  {
   "cell_type": "code",
   "execution_count": 21,
   "id": "eaa88142",
   "metadata": {},
   "outputs": [
    {
     "data": {
      "text/html": [
       "<div>\n",
       "<style scoped>\n",
       "    .dataframe tbody tr th:only-of-type {\n",
       "        vertical-align: middle;\n",
       "    }\n",
       "\n",
       "    .dataframe tbody tr th {\n",
       "        vertical-align: top;\n",
       "    }\n",
       "\n",
       "    .dataframe thead th {\n",
       "        text-align: right;\n",
       "    }\n",
       "</style>\n",
       "<table border=\"1\" class=\"dataframe\">\n",
       "  <thead>\n",
       "    <tr style=\"text-align: right;\">\n",
       "      <th></th>\n",
       "      <th>X1</th>\n",
       "      <th>Math</th>\n",
       "      <th>Y</th>\n",
       "    </tr>\n",
       "  </thead>\n",
       "  <tbody>\n",
       "    <tr>\n",
       "      <th>0</th>\n",
       "      <td>82</td>\n",
       "      <td>yes</td>\n",
       "      <td>90</td>\n",
       "    </tr>\n",
       "    <tr>\n",
       "      <th>1</th>\n",
       "      <td>66</td>\n",
       "      <td>no</td>\n",
       "      <td>66</td>\n",
       "    </tr>\n",
       "    <tr>\n",
       "      <th>2</th>\n",
       "      <td>72</td>\n",
       "      <td>yes</td>\n",
       "      <td>78</td>\n",
       "    </tr>\n",
       "    <tr>\n",
       "      <th>3</th>\n",
       "      <td>59</td>\n",
       "      <td>yes</td>\n",
       "      <td>65</td>\n",
       "    </tr>\n",
       "    <tr>\n",
       "      <th>4</th>\n",
       "      <td>86</td>\n",
       "      <td>no</td>\n",
       "      <td>65</td>\n",
       "    </tr>\n",
       "    <tr>\n",
       "      <th>5</th>\n",
       "      <td>50</td>\n",
       "      <td>yes</td>\n",
       "      <td>60</td>\n",
       "    </tr>\n",
       "    <tr>\n",
       "      <th>6</th>\n",
       "      <td>60</td>\n",
       "      <td>no</td>\n",
       "      <td>63</td>\n",
       "    </tr>\n",
       "    <tr>\n",
       "      <th>7</th>\n",
       "      <td>91</td>\n",
       "      <td>no</td>\n",
       "      <td>72</td>\n",
       "    </tr>\n",
       "    <tr>\n",
       "      <th>8</th>\n",
       "      <td>46</td>\n",
       "      <td>no</td>\n",
       "      <td>54</td>\n",
       "    </tr>\n",
       "    <tr>\n",
       "      <th>9</th>\n",
       "      <td>80</td>\n",
       "      <td>yes</td>\n",
       "      <td>81</td>\n",
       "    </tr>\n",
       "    <tr>\n",
       "      <th>10</th>\n",
       "      <td>68</td>\n",
       "      <td>no</td>\n",
       "      <td>58</td>\n",
       "    </tr>\n",
       "    <tr>\n",
       "      <th>11</th>\n",
       "      <td>58</td>\n",
       "      <td>yes</td>\n",
       "      <td>71</td>\n",
       "    </tr>\n",
       "    <tr>\n",
       "      <th>12</th>\n",
       "      <td>88</td>\n",
       "      <td>no</td>\n",
       "      <td>70</td>\n",
       "    </tr>\n",
       "    <tr>\n",
       "      <th>13</th>\n",
       "      <td>82</td>\n",
       "      <td>yes</td>\n",
       "      <td>92</td>\n",
       "    </tr>\n",
       "  </tbody>\n",
       "</table>\n",
       "</div>"
      ],
      "text/plain": [
       "    X1 Math   Y\n",
       "0   82  yes  90\n",
       "1   66   no  66\n",
       "2   72  yes  78\n",
       "3   59  yes  65\n",
       "4   86   no  65\n",
       "5   50  yes  60\n",
       "6   60   no  63\n",
       "7   91   no  72\n",
       "8   46   no  54\n",
       "9   80  yes  81\n",
       "10  68   no  58\n",
       "11  58  yes  71\n",
       "12  88   no  70\n",
       "13  82  yes  92"
      ]
     },
     "execution_count": 21,
     "metadata": {},
     "output_type": "execute_result"
    }
   ],
   "source": [
    "df = pd.DataFrame(d, columns =['X1','Math','Y'])\n",
    "df"
   ]
  },
  {
   "cell_type": "markdown",
   "id": "05a03788",
   "metadata": {},
   "source": [
    "## Modeling final exam score using coursework scores"
   ]
  },
  {
   "cell_type": "code",
   "execution_count": null,
   "id": "f0021670",
   "metadata": {},
   "outputs": [],
   "source": []
  },
  {
   "cell_type": "code",
   "execution_count": 23,
   "id": "d427d51c",
   "metadata": {},
   "outputs": [
    {
     "name": "stdout",
     "output_type": "stream",
     "text": [
      "                            OLS Regression Results                            \n",
      "==============================================================================\n",
      "Dep. Variable:                      Y   R-squared:                       0.376\n",
      "Model:                            OLS   Adj. R-squared:                  0.324\n",
      "Method:                 Least Squares   F-statistic:                     7.242\n",
      "Date:                Tue, 06 Sep 2022   Prob (F-statistic):             0.0196\n",
      "Time:                        09:46:10   Log-Likelihood:                -50.102\n",
      "No. Observations:                  14   AIC:                             104.2\n",
      "Df Residuals:                      12   BIC:                             105.5\n",
      "Df Model:                           1                                         \n",
      "Covariance Type:            nonrobust                                         \n",
      "==============================================================================\n",
      "                 coef    std err          t      P>|t|      [0.025      0.975]\n",
      "------------------------------------------------------------------------------\n",
      "Intercept     36.5640     12.804      2.856      0.014       8.666      64.462\n",
      "X1             0.4789      0.178      2.691      0.020       0.091       0.867\n",
      "==============================================================================\n",
      "Omnibus:                        0.805   Durbin-Watson:                   2.230\n",
      "Prob(Omnibus):                  0.669   Jarque-Bera (JB):                0.746\n",
      "Skew:                           0.348   Prob(JB):                        0.689\n",
      "Kurtosis:                       2.109   Cond. No.                         368.\n",
      "==============================================================================\n",
      "\n",
      "Notes:\n",
      "[1] Standard Errors assume that the covariance matrix of the errors is correctly specified.\n"
     ]
    },
    {
     "name": "stderr",
     "output_type": "stream",
     "text": [
      "C:\\Users\\Siddharth Kumar\\anaconda3\\lib\\site-packages\\scipy\\stats\\stats.py:1541: UserWarning: kurtosistest only valid for n>=20 ... continuing anyway, n=14\n",
      "  warnings.warn(\"kurtosistest only valid for n>=20 ... continuing \"\n"
     ]
    }
   ],
   "source": [
    "model1 = sms.ols('Y~X1',data = df).fit()\n",
    "\n",
    "print(model1.summary())"
   ]
  },
  {
   "cell_type": "markdown",
   "id": "0dc3c340",
   "metadata": {},
   "source": [
    "## Modeling final exam score using coursework scores"
   ]
  },
  {
   "cell_type": "markdown",
   "id": "bac1ff67",
   "metadata": {},
   "source": [
    "#### First, the instructor ignores the information on whether a student likes math, and simply fits a simple linear regression model with  = final exam score (%) and  = coursework score (%)."
   ]
  },
  {
   "cell_type": "code",
   "execution_count": 25,
   "id": "feb15417",
   "metadata": {},
   "outputs": [
    {
     "name": "stdout",
     "output_type": "stream",
     "text": [
      "eval_env: 1\n"
     ]
    },
    {
     "data": {
      "image/png": "[encoded data removed]",
      "text/plain": [
       "<Figure size 864x576 with 4 Axes>"
      ]
     },
     "metadata": {},
     "output_type": "display_data"
    }
   ],
   "source": [
    "# define figure size\n",
    "fig = plt.figure (figsize=(12,8))\n",
    "\n",
    "#produce regression plots\n",
    "fig = sm.graphics.plot_regress_exog(model1,'X1',fig=fig)"
   ]
  },
  {
   "cell_type": "code",
   "execution_count": 27,
   "id": "83643d62",
   "metadata": {},
   "outputs": [
    {
     "data": {
      "text/plain": [
       "0.37637451471359906"
      ]
     },
     "execution_count": 27,
     "metadata": {},
     "output_type": "execute_result"
    }
   ],
   "source": [
    "model1.rsquared"
   ]
  },
  {
   "cell_type": "markdown",
   "id": "676a6390",
   "metadata": {},
   "source": [
    "## Considering Math Column also"
   ]
  },
  {
   "cell_type": "markdown",
   "id": "06b0839c",
   "metadata": {},
   "source": [
    "#### The instructor can include information on whether a student likes math. The multiple linear regression model predicts  = final exam score (%) using  = coursework score (%),  = indicator variable for liking math (0 = no, 1 = yes), and the interaction term ."
   ]
  },
  {
   "cell_type": "code",
   "execution_count": 29,
   "id": "b37498c5",
   "metadata": {},
   "outputs": [
    {
     "name": "stdout",
     "output_type": "stream",
     "text": [
      "                            OLS Regression Results                            \n",
      "==============================================================================\n",
      "Dep. Variable:                      Y   R-squared:                       0.918\n",
      "Model:                            OLS   Adj. R-squared:                  0.893\n",
      "Method:                 Least Squares   F-statistic:                     37.30\n",
      "Date:                Tue, 06 Sep 2022   Prob (F-statistic):           9.70e-06\n",
      "Time:                        09:51:45   Log-Likelihood:                -35.903\n",
      "No. Observations:                  14   AIC:                             79.81\n",
      "Df Residuals:                      10   BIC:                             82.36\n",
      "Df Model:                           3                                         \n",
      "Covariance Type:            nonrobust                                         \n",
      "==================================================================================\n",
      "                     coef    std err          t      P>|t|      [0.025      0.975]\n",
      "----------------------------------------------------------------------------------\n",
      "Intercept         40.6212      6.688      6.074      0.000      25.720      55.523\n",
      "Math[T.yes]      -24.3640     10.462     -2.329      0.042     -47.675      -1.053\n",
      "X1                 0.3241      0.091      3.576      0.005       0.122       0.526\n",
      "X1:Math[T.yes]     0.5521      0.146      3.775      0.004       0.226       0.878\n",
      "==============================================================================\n",
      "Omnibus:                        2.444   Durbin-Watson:                   1.276\n",
      "Prob(Omnibus):                  0.295   Jarque-Bera (JB):                1.103\n",
      "Skew:                          -0.244   Prob(JB):                        0.576\n",
      "Kurtosis:                       1.715   Cond. No.                         942.\n",
      "==============================================================================\n",
      "\n",
      "Notes:\n",
      "[1] Standard Errors assume that the covariance matrix of the errors is correctly specified.\n"
     ]
    },
    {
     "name": "stderr",
     "output_type": "stream",
     "text": [
      "C:\\Users\\Siddharth Kumar\\anaconda3\\lib\\site-packages\\scipy\\stats\\stats.py:1541: UserWarning: kurtosistest only valid for n>=20 ... continuing anyway, n=14\n",
      "  warnings.warn(\"kurtosistest only valid for n>=20 ... continuing \"\n"
     ]
    }
   ],
   "source": [
    "model2 = sms.ols('Y~X1 + Math + X1*Math' , data = df).fit()\n",
    "\n",
    "print(model2.summary())"
   ]
  },
  {
   "cell_type": "markdown",
   "id": "8fc33eb2",
   "metadata": {},
   "source": [
    "#### A residual plot and QQ plot for the regression model using coursework scores and a variable indicating whether a student likes math."
   ]
  },
  {
   "cell_type": "code",
   "execution_count": 31,
   "id": "5a5d210a",
   "metadata": {},
   "outputs": [
    {
     "data": {
      "image/png": "[encoded data removed]",
      "text/plain": [
       "<Figure size 432x288 with 1 Axes>"
      ]
     },
     "metadata": {},
     "output_type": "display_data"
    }
   ],
   "source": [
    "res = model2.resid #residuals\n",
    "sm.qqplot(res)\n",
    "plt.show()"
   ]
  },
  {
   "cell_type": "code",
   "execution_count": 33,
   "id": "2084f296",
   "metadata": {},
   "outputs": [
    {
     "data": {
      "text/plain": [
       "0.917974325354588"
      ]
     },
     "execution_count": 33,
     "metadata": {},
     "output_type": "execute_result"
    }
   ],
   "source": [
    "model2.rsquared"
   ]
  },
  {
   "cell_type": "markdown",
   "id": "63b15bb1",
   "metadata": {},
   "source": [
    "#### Modeling final exam score using coursework scores and liking math."
   ]
  },
  {
   "cell_type": "code",
   "execution_count": 36,
   "id": "4cf14bae",
   "metadata": {},
   "outputs": [],
   "source": [
    "from sklearn import linear_model"
   ]
  },
  {
   "cell_type": "code",
   "execution_count": 38,
   "id": "48457da9",
   "metadata": {},
   "outputs": [
    {
     "data": {
      "text/html": [
       "<div>\n",
       "<style scoped>\n",
       "    .dataframe tbody tr th:only-of-type {\n",
       "        vertical-align: middle;\n",
       "    }\n",
       "\n",
       "    .dataframe tbody tr th {\n",
       "        vertical-align: top;\n",
       "    }\n",
       "\n",
       "    .dataframe thead th {\n",
       "        text-align: right;\n",
       "    }\n",
       "</style>\n",
       "<table border=\"1\" class=\"dataframe\">\n",
       "  <thead>\n",
       "    <tr style=\"text-align: right;\">\n",
       "      <th></th>\n",
       "      <th>X1</th>\n",
       "      <th>Y</th>\n",
       "      <th>Math_yes</th>\n",
       "    </tr>\n",
       "  </thead>\n",
       "  <tbody>\n",
       "    <tr>\n",
       "      <th>0</th>\n",
       "      <td>82</td>\n",
       "      <td>90</td>\n",
       "      <td>1</td>\n",
       "    </tr>\n",
       "    <tr>\n",
       "      <th>1</th>\n",
       "      <td>66</td>\n",
       "      <td>66</td>\n",
       "      <td>0</td>\n",
       "    </tr>\n",
       "    <tr>\n",
       "      <th>2</th>\n",
       "      <td>72</td>\n",
       "      <td>78</td>\n",
       "      <td>1</td>\n",
       "    </tr>\n",
       "    <tr>\n",
       "      <th>3</th>\n",
       "      <td>59</td>\n",
       "      <td>65</td>\n",
       "      <td>1</td>\n",
       "    </tr>\n",
       "    <tr>\n",
       "      <th>4</th>\n",
       "      <td>86</td>\n",
       "      <td>65</td>\n",
       "      <td>0</td>\n",
       "    </tr>\n",
       "    <tr>\n",
       "      <th>5</th>\n",
       "      <td>50</td>\n",
       "      <td>60</td>\n",
       "      <td>1</td>\n",
       "    </tr>\n",
       "    <tr>\n",
       "      <th>6</th>\n",
       "      <td>60</td>\n",
       "      <td>63</td>\n",
       "      <td>0</td>\n",
       "    </tr>\n",
       "    <tr>\n",
       "      <th>7</th>\n",
       "      <td>91</td>\n",
       "      <td>72</td>\n",
       "      <td>0</td>\n",
       "    </tr>\n",
       "    <tr>\n",
       "      <th>8</th>\n",
       "      <td>46</td>\n",
       "      <td>54</td>\n",
       "      <td>0</td>\n",
       "    </tr>\n",
       "    <tr>\n",
       "      <th>9</th>\n",
       "      <td>80</td>\n",
       "      <td>81</td>\n",
       "      <td>1</td>\n",
       "    </tr>\n",
       "    <tr>\n",
       "      <th>10</th>\n",
       "      <td>68</td>\n",
       "      <td>58</td>\n",
       "      <td>0</td>\n",
       "    </tr>\n",
       "    <tr>\n",
       "      <th>11</th>\n",
       "      <td>58</td>\n",
       "      <td>71</td>\n",
       "      <td>1</td>\n",
       "    </tr>\n",
       "    <tr>\n",
       "      <th>12</th>\n",
       "      <td>88</td>\n",
       "      <td>70</td>\n",
       "      <td>0</td>\n",
       "    </tr>\n",
       "    <tr>\n",
       "      <th>13</th>\n",
       "      <td>82</td>\n",
       "      <td>92</td>\n",
       "      <td>1</td>\n",
       "    </tr>\n",
       "  </tbody>\n",
       "</table>\n",
       "</div>"
      ],
      "text/plain": [
       "    X1   Y  Math_yes\n",
       "0   82  90         1\n",
       "1   66  66         0\n",
       "2   72  78         1\n",
       "3   59  65         1\n",
       "4   86  65         0\n",
       "5   50  60         1\n",
       "6   60  63         0\n",
       "7   91  72         0\n",
       "8   46  54         0\n",
       "9   80  81         1\n",
       "10  68  58         0\n",
       "11  58  71         1\n",
       "12  88  70         0\n",
       "13  82  92         1"
      ]
     },
     "execution_count": 38,
     "metadata": {},
     "output_type": "execute_result"
    }
   ],
   "source": [
    "df = pd.get_dummies(df,drop_first = True)\n",
    "df"
   ]
  },
  {
   "cell_type": "code",
   "execution_count": 39,
   "id": "65413f6b",
   "metadata": {},
   "outputs": [],
   "source": [
    "X =df[['X1','Math_yes']]\n",
    "y= df['Y']"
   ]
  },
  {
   "cell_type": "code",
   "execution_count": 42,
   "id": "8da44840",
   "metadata": {},
   "outputs": [
    {
     "data": {
      "text/plain": [
       "LinearRegression()"
      ]
     },
     "execution_count": 42,
     "metadata": {},
     "output_type": "execute_result"
    }
   ],
   "source": [
    "model = linear_model.LinearRegression()\n",
    "model.fit(X,y)"
   ]
  },
  {
   "cell_type": "code",
   "execution_count": 43,
   "id": "fdc97bda",
   "metadata": {},
   "outputs": [
    {
     "data": {
      "text/plain": [
       "0.8010981254630576"
      ]
     },
     "execution_count": 43,
     "metadata": {},
     "output_type": "execute_result"
    }
   ],
   "source": [
    "model.score(X,y)"
   ]
  }
 ],
 "metadata": {
  "kernelspec": {
   "display_name": "Python 3 (ipykernel)",
   "language": "python",
   "name": "python3"
  },
  "language_info": {
   "codemirror_mode": {
    "name": "ipython",
    "version": 3
   },
   "file_extension": ".py",
   "mimetype": "text/x-python",
   "name": "python",
   "nbconvert_exporter": "python",
   "pygments_lexer": "ipython3",
   "version": "3.9.12"
  }
 },
 "nbformat": 4,
 "nbformat_minor": 5
}
